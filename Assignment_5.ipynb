{
 "cells": [
  {
   "cell_type": "markdown",
   "metadata": {},
   "source": [
    "1, How-to-count-distance-to-the-previous-zero\n",
    "\n",
    "    For each value, count the difference of the distance from the previous zero (or the start\n",
    "    of the Series, whichever is closer) and if there are no previous zeros,print the position\n",
    "     Consider a DataFrame df where there is an integer column {'X':[7, 2, 0, 3, 4, 2, 5, 0, 3, 4]}\n",
    "     The values should therefore be [1, 2, 0, 1, 2, 3, 4, 0, 1, 2]. Make this a new column 'Y'.\n",
    "    \n",
    "    import pandas as pd\n",
    "    df = pd.DataFrame({'X': [7, 2, 0, 3, 4, 2, 5, 0, 3, 4]})"
   ]
  },
  {
   "cell_type": "code",
   "execution_count": 37,
   "metadata": {},
   "outputs": [],
   "source": [
    "import pandas as pd\n",
    "import numpy as np"
   ]
  },
  {
   "cell_type": "code",
   "execution_count": 2,
   "metadata": {},
   "outputs": [],
   "source": [
    "df = pd.DataFrame({'x':[7,2,0,3,4,2,5,0,3,4]})"
   ]
  },
  {
   "cell_type": "code",
   "execution_count": 31,
   "metadata": {},
   "outputs": [
    {
     "data": {
      "text/plain": [
       "0    7\n",
       "1    2\n",
       "2    0\n",
       "3    3\n",
       "4    4\n",
       "5    2\n",
       "6    5\n",
       "7    0\n",
       "8    3\n",
       "9    4\n",
       "Name: x, dtype: int64"
      ]
     },
     "execution_count": 31,
     "metadata": {},
     "output_type": "execute_result"
    }
   ],
   "source": [
    "df.x"
   ]
  },
  {
   "cell_type": "code",
   "execution_count": 32,
   "metadata": {},
   "outputs": [
    {
     "data": {
      "text/plain": [
       "0    1\n",
       "1    2\n",
       "2    2\n",
       "3    3\n",
       "4    4\n",
       "5    5\n",
       "6    6\n",
       "7    6\n",
       "8    7\n",
       "9    8\n",
       "Name: x, dtype: int64"
      ]
     },
     "execution_count": 32,
     "metadata": {},
     "output_type": "execute_result"
    }
   ],
   "source": [
    "X = (df['x'] != 0).cumsum()\n",
    "X"
   ]
  },
  {
   "cell_type": "code",
   "execution_count": 33,
   "metadata": {},
   "outputs": [],
   "source": [
    "Y = X != X.shift()"
   ]
  },
  {
   "cell_type": "code",
   "execution_count": 34,
   "metadata": {},
   "outputs": [],
   "source": [
    "Y = list(Y.groupby((Y != Y.shift()).cumsum()).cumsum())"
   ]
  },
  {
   "cell_type": "code",
   "execution_count": 40,
   "metadata": {},
   "outputs": [
    {
     "data": {
      "text/plain": [
       "array([1, 2, 0, 1, 2, 3, 4, 0, 1, 2])"
      ]
     },
     "execution_count": 40,
     "metadata": {},
     "output_type": "execute_result"
    }
   ],
   "source": [
    "np.array(Y,dtype=int)"
   ]
  },
  {
   "cell_type": "code",
   "execution_count": null,
   "metadata": {},
   "outputs": [],
   "source": []
  },
  {
   "cell_type": "markdown",
   "metadata": {},
   "source": [
    "    2) Create a DatetimeIndex that contains each business day of 2015 and use it to index a\n",
    "    Series of random numbers."
   ]
  },
  {
   "cell_type": "code",
   "execution_count": 44,
   "metadata": {},
   "outputs": [],
   "source": [
    "dateTime_Index = pd.date_range(start='2015-01-01', end='2015-12-31', freq='B') \n"
   ]
  },
  {
   "cell_type": "code",
   "execution_count": 45,
   "metadata": {},
   "outputs": [
    {
     "data": {
      "text/plain": [
       "DatetimeIndex(['2015-01-01', '2015-01-02', '2015-01-05', '2015-01-06',\n",
       "               '2015-01-07', '2015-01-08', '2015-01-09', '2015-01-12',\n",
       "               '2015-01-13', '2015-01-14',\n",
       "               ...\n",
       "               '2015-12-18', '2015-12-21', '2015-12-22', '2015-12-23',\n",
       "               '2015-12-24', '2015-12-25', '2015-12-28', '2015-12-29',\n",
       "               '2015-12-30', '2015-12-31'],\n",
       "              dtype='datetime64[ns]', length=261, freq='B')"
      ]
     },
     "execution_count": 45,
     "metadata": {},
     "output_type": "execute_result"
    }
   ],
   "source": [
    "dateTime_Index"
   ]
  },
  {
   "cell_type": "code",
   "execution_count": 46,
   "metadata": {},
   "outputs": [],
   "source": [
    "s = pd.Series(np.random.rand(len(dateTime_Index)), index=dateTime_Index)"
   ]
  },
  {
   "cell_type": "code",
   "execution_count": 47,
   "metadata": {},
   "outputs": [
    {
     "data": {
      "text/plain": [
       "2015-01-01    0.726361\n",
       "2015-01-02    0.032181\n",
       "2015-01-05    0.081112\n",
       "2015-01-06    0.507049\n",
       "2015-01-07    0.196856\n",
       "2015-01-08    0.484241\n",
       "2015-01-09    0.542680\n",
       "2015-01-12    0.550708\n",
       "2015-01-13    0.181846\n",
       "2015-01-14    0.435580\n",
       "2015-01-15    0.650645\n",
       "2015-01-16    0.036410\n",
       "2015-01-19    0.014229\n",
       "2015-01-20    0.576359\n",
       "2015-01-21    0.150178\n",
       "2015-01-22    0.477171\n",
       "2015-01-23    0.997837\n",
       "2015-01-26    0.715105\n",
       "2015-01-27    0.004118\n",
       "2015-01-28    0.692447\n",
       "2015-01-29    0.440955\n",
       "2015-01-30    0.774096\n",
       "2015-02-02    0.475933\n",
       "2015-02-03    0.788052\n",
       "2015-02-04    0.962891\n",
       "2015-02-05    0.074674\n",
       "2015-02-06    0.410713\n",
       "2015-02-09    0.613973\n",
       "2015-02-10    0.483497\n",
       "2015-02-11    0.713274\n",
       "                ...   \n",
       "2015-11-20    0.323324\n",
       "2015-11-23    0.035782\n",
       "2015-11-24    0.948622\n",
       "2015-11-25    0.797761\n",
       "2015-11-26    0.815637\n",
       "2015-11-27    0.862301\n",
       "2015-11-30    0.362229\n",
       "2015-12-01    0.021272\n",
       "2015-12-02    0.277262\n",
       "2015-12-03    0.885142\n",
       "2015-12-04    0.911945\n",
       "2015-12-07    0.729899\n",
       "2015-12-08    0.083706\n",
       "2015-12-09    0.579474\n",
       "2015-12-10    0.330956\n",
       "2015-12-11    0.484095\n",
       "2015-12-14    0.741893\n",
       "2015-12-15    0.513536\n",
       "2015-12-16    0.306190\n",
       "2015-12-17    0.824632\n",
       "2015-12-18    0.509711\n",
       "2015-12-21    0.241719\n",
       "2015-12-22    0.114344\n",
       "2015-12-23    0.446224\n",
       "2015-12-24    0.448161\n",
       "2015-12-25    0.522124\n",
       "2015-12-28    0.774605\n",
       "2015-12-29    0.179979\n",
       "2015-12-30    0.386376\n",
       "2015-12-31    0.358037\n",
       "Freq: B, Length: 261, dtype: float64"
      ]
     },
     "execution_count": 47,
     "metadata": {},
     "output_type": "execute_result"
    }
   ],
   "source": [
    "s"
   ]
  },
  {
   "cell_type": "markdown",
   "metadata": {},
   "source": [
    "     3) Find the sum of the values in s for every Wednesday"
   ]
  },
  {
   "cell_type": "code",
   "execution_count": 48,
   "metadata": {},
   "outputs": [
    {
     "data": {
      "text/plain": [
       "30.904886713072063"
      ]
     },
     "execution_count": 48,
     "metadata": {},
     "output_type": "execute_result"
    }
   ],
   "source": [
    "s[dateTime_Index.weekday == 2].sum()"
   ]
  },
  {
   "cell_type": "markdown",
   "metadata": {},
   "source": [
    "    4) Average For each calendar month"
   ]
  },
  {
   "cell_type": "code",
   "execution_count": 87,
   "metadata": {
    "scrolled": true
   },
   "outputs": [],
   "source": [
    "s=s.resample('M').mean()"
   ]
  },
  {
   "cell_type": "code",
   "execution_count": 106,
   "metadata": {},
   "outputs": [
    {
     "data": {
      "text/plain": [
       "2015-01-31    0.421280\n",
       "2015-02-28    0.436003\n",
       "2015-03-31    0.572678\n",
       "2015-04-30    0.579463\n",
       "2015-05-31    0.471449\n",
       "2015-06-30    0.519940\n",
       "2015-07-31    0.568359\n",
       "2015-08-31    0.567258\n",
       "2015-09-30    0.498610\n",
       "2015-10-31    0.524562\n",
       "2015-11-30    0.617145\n",
       "2015-12-31    0.463969\n",
       "Freq: M, dtype: float64"
      ]
     },
     "execution_count": 106,
     "metadata": {},
     "output_type": "execute_result"
    }
   ],
   "source": [
    "s"
   ]
  },
  {
   "cell_type": "code",
   "execution_count": null,
   "metadata": {},
   "outputs": [],
   "source": []
  },
  {
   "cell_type": "markdown",
   "metadata": {},
   "source": [
    "    5) For each group of four consecutive calendar months in s, find the date on which the\n",
    "    highest value occurred."
   ]
  },
  {
   "cell_type": "code",
   "execution_count": 117,
   "metadata": {},
   "outputs": [
    {
     "data": {
      "text/plain": [
       "2015-01-01    0.579463\n",
       "2015-05-01    0.568359\n",
       "2015-09-01    0.617145\n",
       "2016-01-01         NaN\n",
       "dtype: float64"
      ]
     },
     "execution_count": 117,
     "metadata": {},
     "output_type": "execute_result"
    }
   ],
   "source": [
    "s.groupby(pd.Grouper(freq='4MS')).max()"
   ]
  },
  {
   "cell_type": "code",
   "execution_count": 118,
   "metadata": {},
   "outputs": [
    {
     "data": {
      "text/plain": [
       "2015-01-31   2015-01-31\n",
       "2015-05-31   2015-04-30\n",
       "2015-09-30   2015-07-31\n",
       "2016-01-31   2015-11-30\n",
       "dtype: datetime64[ns]"
      ]
     },
     "execution_count": 118,
     "metadata": {},
     "output_type": "execute_result"
    }
   ],
   "source": [
    "#finding the date \n",
    "s.groupby(pd.Grouper(freq='4M')).idxmax()"
   ]
  }
 ],
 "metadata": {
  "kernelspec": {
   "display_name": "Python 3",
   "language": "python",
   "name": "python3"
  },
  "language_info": {
   "codemirror_mode": {
    "name": "ipython",
    "version": 3
   },
   "file_extension": ".py",
   "mimetype": "text/x-python",
   "name": "python",
   "nbconvert_exporter": "python",
   "pygments_lexer": "ipython3",
   "version": "3.7.1"
  }
 },
 "nbformat": 4,
 "nbformat_minor": 2
}
